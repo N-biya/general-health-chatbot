{
  "cells": [
    {
      "cell_type": "code",
      "execution_count": null,
      "metadata": {
        "colab": {
          "base_uri": "https://localhost:8080/",
          "height": 660
        },
        "id": "3i-1KfOpIJMx",
        "outputId": "bcb1680e-40f2-4e1b-ac57-385853d66eec"
      },
      "outputs": [
        {
          "name": "stderr",
          "output_type": "stream",
          "text": [
            "/usr/local/lib/python3.11/dist-packages/gradio/chat_interface.py:328: UserWarning: The gr.ChatInterface was not provided with a type, so the type of the gr.Chatbot, 'messages', will be used.\n",
            "  warnings.warn(\n"
          ]
        },
        {
          "name": "stdout",
          "output_type": "stream",
          "text": [
            "Colab notebook detected. This cell will run indefinitely so that you can see errors and logs. To turn off, set debug=False in launch().\n",
            "* Running on public URL: https://fe42fc2e18469bd95d.gradio.live\n",
            "\n",
            "This share link expires in 1 week. For free permanent hosting and GPU upgrades, run `gradio deploy` from the terminal in the working directory to deploy to Hugging Face Spaces (https://huggingface.co/spaces)\n"
          ]
        },
        {
          "data": {
            "text/html": [
              "<div><iframe src=\"https://fe42fc2e18469bd95d.gradio.live\" width=\"100%\" height=\"500\" allow=\"autoplay; camera; microphone; clipboard-read; clipboard-write;\" frameborder=\"0\" allowfullscreen></iframe></div>"
            ],
            "text/plain": [
              "<IPython.core.display.HTML object>"
            ]
          },
          "metadata": {},
          "output_type": "display_data"
        },
        {
          "name": "stdout",
          "output_type": "stream",
          "text": [
            "Keyboard interruption in main thread... closing server.\n",
            "Killing tunnel 127.0.0.1:7860 <> https://fe42fc2e18469bd95d.gradio.live\n"
          ]
        },
        {
          "data": {
            "text/plain": []
          },
          "execution_count": 10,
          "metadata": {},
          "output_type": "execute_result"
        }
      ],
      "source": [
        "!pip install -q gradio huggingface_hub --upgrade\n",
        "import gradio as gr\n",
        "from huggingface_hub import InferenceClient\n",
        "\n",
        "\n",
        "HF_TOKEN = \"your own token\"\n",
        "\n",
        "client = InferenceClient(\n",
        "    model=\"mistralai/Mistral-7B-Instruct-v0.3\",\n",
        "    token=HF_TOKEN\n",
        ")\n",
        "\n",
        "def is_safe_query(user_input):\n",
        "    unsafe_keywords = [\n",
        "        \"suicide\", \"overdose\", \"self-harm\", \"kill\", \"die\",\n",
        "        \"abort\", \"prescribe\", \"diagnose\", \"emergency\"\n",
        "    ]\n",
        "    return not any(word in user_input.lower() for word in unsafe_keywords)\n",
        "\n",
        "def chat_with_memory(message, history):\n",
        "    history = history or []\n",
        "\n",
        "\n",
        "    if not is_safe_query(message):\n",
        "        history.append({\"role\": \"user\", \"content\": message})\n",
        "        history.append({\"role\": \"assistant\", \"content\": \"I'm sorry, but I can't help with that. Please consult a healthcare professional.\"})\n",
        "        return history\n",
        "\n",
        "\n",
        "    messages = [{\"role\": \"system\", \"content\": \"You are a helpful and responsible medical assistant. Answer health questions clearly and carefully. Never give medical advice or prescriptions. Always recommend seeing a real doctor for serious issues.\"}]\n",
        "    messages.extend(history)\n",
        "    messages.append({\"role\": \"user\", \"content\": message})\n",
        "\n",
        "    try:\n",
        "        # Model inference\n",
        "        response = client.chat_completion(messages, max_tokens=200, temperature=0.7)\n",
        "        print(\"RAW RESPONSE:\\n\", response)\n",
        "\n",
        "        if hasattr(response, \"choices\") and response.choices:\n",
        "            choice = response.choices[0]\n",
        "            if hasattr(choice, \"message\") and isinstance(choice.message, dict):\n",
        "                reply = choice.message.get(\"content\", \"\").strip()\n",
        "            elif hasattr(choice, \"text\"):\n",
        "                reply = choice.text.strip()\n",
        "            else:\n",
        "                reply = \"Could not parse model response.\"\n",
        "        else:\n",
        "            reply = \"Model did not return any choices.\"\n",
        "    except Exception as e:\n",
        "        reply = f\"Exception: {str(e)}\"\n",
        "\n",
        "    # Append to history\n",
        "    history.append({\"role\": \"user\", \"content\": message})\n",
        "    history.append({\"role\": \"assistant\", \"content\": reply})\n",
        "    return history\n",
        "\n",
        "# Launch Gradio ChatInterface\n",
        "gr.ChatInterface(\n",
        "    fn=chat_with_memory,\n",
        "    chatbot=gr.Chatbot(type=\"messages\"),\n",
        "    title=\"General Health Chatbot\",\n",
        "    theme=\"default\"\n",
        ").launch(share=True, debug=True)\n"
      ]
    }
  ],
  "metadata": {
    "colab": {
      "provenance": []
    },
    "kernelspec": {
      "display_name": "Python 3",
      "name": "python3"
    },
    "language_info": {
      "name": "python"
    }
  },
  "nbformat": 4,
  "nbformat_minor": 0
}
